{
 "cells": [
  {
   "cell_type": "code",
   "execution_count": 15,
   "id": "6e43dfe3-fbfb-4273-9467-12faec43e109",
   "metadata": {},
   "outputs": [],
   "source": [
    "import pandas as pd\n",
    "import re"
   ]
  },
  {
   "cell_type": "code",
   "execution_count": 8,
   "id": "102aa0d7-b258-478d-a9d1-057aa87a28cb",
   "metadata": {},
   "outputs": [],
   "source": [
    "folder_data = \"E:\\\\Dataset\\\\liputan6_data2\\\\\"\n",
    "train_set = pd.read_csv(folder_data+'train_set.csv')\n",
    "valid_set = pd.read_csv(folder_data+'valid_set.csv')\n",
    "test_set = pd.read_csv(folder_data+'test_set.csv')"
   ]
  },
  {
   "cell_type": "code",
   "execution_count": 10,
   "id": "01275757-8361-4740-a6fc-99e078309efd",
   "metadata": {},
   "outputs": [],
   "source": [
    "def clean_article(text):\n",
    "    text = re.sub(r'Liputan6\\. com, [A-Za-z\\s]+:', '', text)\n",
    "    text = re.sub(r'\\w+\\s*\\(\\d{1,2}/\\d{1,2}\\)', '', text)\n",
    "    text = re.sub(r'\\([A-Z]+/[A-Za-z\\s]+(?: dan [A-Za-z\\s]+)?\\)\\.', '', text)\n",
    "    text = re.sub(r'\\[baca: .*?\\]', '', text)\n",
    "    return text.strip()"
   ]
  },
  {
   "cell_type": "code",
   "execution_count": 17,
   "id": "5e449281-c636-4fec-9695-2e9f5d8a9ba6",
   "metadata": {},
   "outputs": [],
   "source": [
    "train_set['final_clean_article'] = train_set['combined_clean_article'].apply(clean_article)\n",
    "valid_set['final_clean_article'] = valid_set['combined_clean_article'].apply(clean_article)\n",
    "test_set['final_clean_article'] = test_set['combined_clean_article'].apply(clean_article)"
   ]
  },
  {
   "cell_type": "code",
   "execution_count": 18,
   "id": "53b5738e-262d-430a-8098-1817f1e14431",
   "metadata": {},
   "outputs": [],
   "source": [
    "final_train_set = train_set[['final_clean_article','combined_clean_summary']]\n",
    "final_valid_set = valid_set[['final_clean_article','combined_clean_summary']]\n",
    "final_test_set = test_set[['final_clean_article','combined_clean_summary']]"
   ]
  },
  {
   "cell_type": "code",
   "execution_count": 21,
   "id": "90f1db68-9fa5-4388-bf9c-e90c06733630",
   "metadata": {},
   "outputs": [
    {
     "data": {
      "text/html": [
       "<div>\n",
       "<style scoped>\n",
       "    .dataframe tbody tr th:only-of-type {\n",
       "        vertical-align: middle;\n",
       "    }\n",
       "\n",
       "    .dataframe tbody tr th {\n",
       "        vertical-align: top;\n",
       "    }\n",
       "\n",
       "    .dataframe thead th {\n",
       "        text-align: right;\n",
       "    }\n",
       "</style>\n",
       "<table border=\"1\" class=\"dataframe\">\n",
       "  <thead>\n",
       "    <tr style=\"text-align: right;\">\n",
       "      <th></th>\n",
       "      <th>final_clean_article</th>\n",
       "      <th>combined_clean_summary</th>\n",
       "    </tr>\n",
       "  </thead>\n",
       "  <tbody>\n",
       "    <tr>\n",
       "      <th>0</th>\n",
       "      <td>Kolonel Richard Ginting dinonaktifkan dari jab...</td>\n",
       "      <td>Kolonel Richard Ginting dinyatakan terlibat bi...</td>\n",
       "    </tr>\n",
       "    <tr>\n",
       "      <th>1</th>\n",
       "      <td>Acong ditangkap polisi karena mendalangi pencu...</td>\n",
       "      <td>Acong dipergoki rekan sesama satpam membawa ka...</td>\n",
       "    </tr>\n",
       "    <tr>\n",
       "      <th>2</th>\n",
       "      <td>Presiden Susilo Bambang Yudhoyono menggelar ja...</td>\n",
       "      <td>Jamuan makan malam bagi peserta KAA diadakan d...</td>\n",
       "    </tr>\n",
       "    <tr>\n",
       "      <th>3</th>\n",
       "      <td>Lebih dari seratus pengikut aliran Falun Gong ...</td>\n",
       "      <td>Mereka berdemonstrasi di saat para delegasi me...</td>\n",
       "    </tr>\n",
       "    <tr>\n",
       "      <th>4</th>\n",
       "      <td>Mantan Deputi Kepala Badan Penyehatan Perbanka...</td>\n",
       "      <td>TMM, mantan Deputi Kepala Badan Penyehatan Per...</td>\n",
       "    </tr>\n",
       "  </tbody>\n",
       "</table>\n",
       "</div>"
      ],
      "text/plain": [
       "                                 final_clean_article  \\\n",
       "0  Kolonel Richard Ginting dinonaktifkan dari jab...   \n",
       "1  Acong ditangkap polisi karena mendalangi pencu...   \n",
       "2  Presiden Susilo Bambang Yudhoyono menggelar ja...   \n",
       "3  Lebih dari seratus pengikut aliran Falun Gong ...   \n",
       "4  Mantan Deputi Kepala Badan Penyehatan Perbanka...   \n",
       "\n",
       "                              combined_clean_summary  \n",
       "0  Kolonel Richard Ginting dinyatakan terlibat bi...  \n",
       "1  Acong dipergoki rekan sesama satpam membawa ka...  \n",
       "2  Jamuan makan malam bagi peserta KAA diadakan d...  \n",
       "3  Mereka berdemonstrasi di saat para delegasi me...  \n",
       "4  TMM, mantan Deputi Kepala Badan Penyehatan Per...  "
      ]
     },
     "execution_count": 21,
     "metadata": {},
     "output_type": "execute_result"
    }
   ],
   "source": [
    "final_train_set.head()"
   ]
  },
  {
   "cell_type": "code",
   "execution_count": 23,
   "id": "a2a409b9-db7f-418c-ac0d-6546c107e92d",
   "metadata": {},
   "outputs": [
    {
     "data": {
      "text/html": [
       "<div>\n",
       "<style scoped>\n",
       "    .dataframe tbody tr th:only-of-type {\n",
       "        vertical-align: middle;\n",
       "    }\n",
       "\n",
       "    .dataframe tbody tr th {\n",
       "        vertical-align: top;\n",
       "    }\n",
       "\n",
       "    .dataframe thead th {\n",
       "        text-align: right;\n",
       "    }\n",
       "</style>\n",
       "<table border=\"1\" class=\"dataframe\">\n",
       "  <thead>\n",
       "    <tr style=\"text-align: right;\">\n",
       "      <th></th>\n",
       "      <th>final_clean_article</th>\n",
       "      <th>combined_clean_summary</th>\n",
       "    </tr>\n",
       "  </thead>\n",
       "  <tbody>\n",
       "    <tr>\n",
       "      <th>0</th>\n",
       "      <td>Para mahasiswa dan masyarakat di Makassar, Sul...</td>\n",
       "      <td>Menhubtel meminta masyarakat tidak menduduki B...</td>\n",
       "    </tr>\n",
       "    <tr>\n",
       "      <th>1</th>\n",
       "      <td>Pemerintah memutuskan untuk mengembalikan tana...</td>\n",
       "      <td>Pemerintah bakal mengembalikan tanah adat sakr...</td>\n",
       "    </tr>\n",
       "    <tr>\n",
       "      <th>2</th>\n",
       "      <td>Sekretaris Jenderal Departemen Kehutanan Soeri...</td>\n",
       "      <td>Soeripto menemui Kepala Polri untuk memastikan...</td>\n",
       "    </tr>\n",
       "    <tr>\n",
       "      <th>3</th>\n",
       "      <td>Setelah hampir tiga tahun Pengadilan Niaga dib...</td>\n",
       "      <td>Pengadilan Niaga mesti dipertahankan. Alasanny...</td>\n",
       "    </tr>\n",
       "    <tr>\n",
       "      <th>4</th>\n",
       "      <td>Situasi keamanan di Lembaga Pemasyarakatan Kel...</td>\n",
       "      <td>Kondisi keamanan di LP Pemuda Tangerang, beran...</td>\n",
       "    </tr>\n",
       "  </tbody>\n",
       "</table>\n",
       "</div>"
      ],
      "text/plain": [
       "                                 final_clean_article  \\\n",
       "0  Para mahasiswa dan masyarakat di Makassar, Sul...   \n",
       "1  Pemerintah memutuskan untuk mengembalikan tana...   \n",
       "2  Sekretaris Jenderal Departemen Kehutanan Soeri...   \n",
       "3  Setelah hampir tiga tahun Pengadilan Niaga dib...   \n",
       "4  Situasi keamanan di Lembaga Pemasyarakatan Kel...   \n",
       "\n",
       "                              combined_clean_summary  \n",
       "0  Menhubtel meminta masyarakat tidak menduduki B...  \n",
       "1  Pemerintah bakal mengembalikan tanah adat sakr...  \n",
       "2  Soeripto menemui Kepala Polri untuk memastikan...  \n",
       "3  Pengadilan Niaga mesti dipertahankan. Alasanny...  \n",
       "4  Kondisi keamanan di LP Pemuda Tangerang, beran...  "
      ]
     },
     "execution_count": 23,
     "metadata": {},
     "output_type": "execute_result"
    }
   ],
   "source": [
    "final_valid_set.head()"
   ]
  },
  {
   "cell_type": "code",
   "execution_count": 25,
   "id": "f005079c-d77b-4d9f-86be-370c7ae9b77d",
   "metadata": {},
   "outputs": [
    {
     "data": {
      "text/html": [
       "<div>\n",
       "<style scoped>\n",
       "    .dataframe tbody tr th:only-of-type {\n",
       "        vertical-align: middle;\n",
       "    }\n",
       "\n",
       "    .dataframe tbody tr th {\n",
       "        vertical-align: top;\n",
       "    }\n",
       "\n",
       "    .dataframe thead th {\n",
       "        text-align: right;\n",
       "    }\n",
       "</style>\n",
       "<table border=\"1\" class=\"dataframe\">\n",
       "  <thead>\n",
       "    <tr style=\"text-align: right;\">\n",
       "      <th></th>\n",
       "      <th>final_clean_article</th>\n",
       "      <th>combined_clean_summary</th>\n",
       "    </tr>\n",
       "  </thead>\n",
       "  <tbody>\n",
       "    <tr>\n",
       "      <th>0</th>\n",
       "      <td>Empat warga negara asing terdakwa penyelundup ...</td>\n",
       "      <td>Sidang pertama kasus penyelundupan heroin dige...</td>\n",
       "    </tr>\n",
       "    <tr>\n",
       "      <th>1</th>\n",
       "      <td>Kepolisian Metro Jaya menyita sejumlah bahan p...</td>\n",
       "      <td>Sejumlah bahan peledak dan senjata rakitan yan...</td>\n",
       "    </tr>\n",
       "    <tr>\n",
       "      <th>2</th>\n",
       "      <td>Pusat desa kerajinan atau Pasar Kriya Desa Kas...</td>\n",
       "      <td>Karena ditinggalkan para perajin, kondisi Desa...</td>\n",
       "    </tr>\n",
       "    <tr>\n",
       "      <th>3</th>\n",
       "      <td>Pakar ekonomi Profesor Mubyarto mengharapkan, ...</td>\n",
       "      <td>Amendemen Pasal 33 Undang-Undang Dasar 1945 se...</td>\n",
       "    </tr>\n",
       "    <tr>\n",
       "      <th>4</th>\n",
       "      <td>Seorang bayi dengan kondisi kepala tak utuh la...</td>\n",
       "      <td>Seorang bayi lahir selamat dalam kondisi tulan...</td>\n",
       "    </tr>\n",
       "  </tbody>\n",
       "</table>\n",
       "</div>"
      ],
      "text/plain": [
       "                                 final_clean_article  \\\n",
       "0  Empat warga negara asing terdakwa penyelundup ...   \n",
       "1  Kepolisian Metro Jaya menyita sejumlah bahan p...   \n",
       "2  Pusat desa kerajinan atau Pasar Kriya Desa Kas...   \n",
       "3  Pakar ekonomi Profesor Mubyarto mengharapkan, ...   \n",
       "4  Seorang bayi dengan kondisi kepala tak utuh la...   \n",
       "\n",
       "                              combined_clean_summary  \n",
       "0  Sidang pertama kasus penyelundupan heroin dige...  \n",
       "1  Sejumlah bahan peledak dan senjata rakitan yan...  \n",
       "2  Karena ditinggalkan para perajin, kondisi Desa...  \n",
       "3  Amendemen Pasal 33 Undang-Undang Dasar 1945 se...  \n",
       "4  Seorang bayi lahir selamat dalam kondisi tulan...  "
      ]
     },
     "execution_count": 25,
     "metadata": {},
     "output_type": "execute_result"
    }
   ],
   "source": [
    "final_test_set.head()"
   ]
  },
  {
   "cell_type": "code",
   "execution_count": 27,
   "id": "1eeee5b7-5dc3-43f6-ba56-2809ee1aa203",
   "metadata": {},
   "outputs": [
    {
     "data": {
      "text/plain": [
       "((10000, 2), (2000, 2), (2000, 2))"
      ]
     },
     "execution_count": 27,
     "metadata": {},
     "output_type": "execute_result"
    }
   ],
   "source": [
    "final_train_set.shape, final_valid_set.shape, final_test_set.shape"
   ]
  },
  {
   "cell_type": "code",
   "execution_count": 29,
   "id": "6eab1720-7d7a-49ae-9e66-437da853218c",
   "metadata": {},
   "outputs": [],
   "source": [
    "folder_data = \"E:\\\\Dataset\\\\liputan6_data2\\\\\"\n",
    "final_test_set.to_csv(folder_data+'final_test_set.csv', index=False)\n",
    "final_valid_set.to_csv(folder_data+'final_valid_set.csv', index=False)\n",
    "final_train_set.to_csv(folder_data+'final_train_set.csv', index=False)"
   ]
  }
 ],
 "metadata": {
  "kernelspec": {
   "display_name": "Python 3 (ipykernel)",
   "language": "python",
   "name": "python3"
  },
  "language_info": {
   "codemirror_mode": {
    "name": "ipython",
    "version": 3
   },
   "file_extension": ".py",
   "mimetype": "text/x-python",
   "name": "python",
   "nbconvert_exporter": "python",
   "pygments_lexer": "ipython3",
   "version": "3.10.0rc2"
  }
 },
 "nbformat": 4,
 "nbformat_minor": 5
}
